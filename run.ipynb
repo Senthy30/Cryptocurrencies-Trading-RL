{
 "cells": [
  {
   "cell_type": "code",
   "execution_count": null,
   "metadata": {},
   "outputs": [],
   "source": [
    "import numpy as np\n",
    "import time\n",
    "import os\n",
    "os.environ['TF_CPP_MIN_LOG_LEVEL'] = '3' \n",
    "\n",
    "import tensorflow as tf\n",
    "from Dataset import BitcoinData\n",
    "from TradingEnvironment import TradingEnvironment\n",
    "from Models import DQN\n",
    "\n",
    "tf.keras.utils.disable_interactive_logging()\n",
    "\n",
    "NUM_EPISODES = 5"
   ]
  },
  {
   "cell_type": "code",
   "execution_count": null,
   "metadata": {},
   "outputs": [],
   "source": [
    "bitcoin_data = BitcoinData()\n",
    "\n",
    "def reset_environment(agent, environment):\n",
    "    state = environment.reset()\n",
    "    next_state = state\n",
    "    \n",
    "    agent.memory.remember(state, 0, 0, next_state, False)\n",
    "\n",
    "    return state\n",
    "\n",
    "def cryptocurrencies_trading():\n",
    "    environment = TradingEnvironment(bitcoin_data)\n",
    "\n",
    "    observation_space = environment.get_observation_space()\n",
    "    action_space = environment.get_action_space()\n",
    "    episode = 0\n",
    "\n",
    "    agent = DQN(observation_space, action_space)\n",
    "\n",
    "    while episode < NUM_EPISODES:\n",
    "        episode += 1\n",
    "        state = environment.reset()\n",
    "        step = 0\n",
    "        while True:\n",
    "            step += 1\n",
    "            action = agent.act(np.array(state))\n",
    "            next_state, reward, done, info = environment.step(action - 1)\n",
    "\n",
    "            if done:\n",
    "                if info is None:\n",
    "                    reward -= 10\n",
    "                elif info is environment.TERMINATION_ENDED_EPOCH:\n",
    "                    reward += 2\n",
    "\n",
    "            agent.memory.remember(state, action, reward, next_state, done)\n",
    "            agent.learn()\n",
    "\n",
    "            state = next_state\n",
    "\n",
    "            if done:\n",
    "                print(\"Episode: {}/{}, steps: {}, min_profit: {:.4}, max_profit: {:.4}\".format(\n",
    "                    episode, NUM_EPISODES, step, environment.min_percent_profit, environment.max_percent_profit))\n",
    "                break\n",
    "\n",
    "            if step % 10 == 0:\n",
    "                print(\"Step: {}, min_profit: {:.4f}, max_profit: {:.4f}\".format(\n",
    "                    step, environment.min_percent_profit, environment.max_percent_profit))\n",
    "\n",
    "\n",
    "        print(state)\n",
    "\n",
    "        break"
   ]
  },
  {
   "cell_type": "code",
   "execution_count": null,
   "metadata": {},
   "outputs": [],
   "source": [
    "cryptocurrencies_trading()"
   ]
  },
  {
   "cell_type": "code",
   "execution_count": null,
   "metadata": {},
   "outputs": [],
   "source": [
    "np.array([1, 2, 3, 4, 5, 6, 7, 8, 9, 10])[[1, 2]]"
   ]
  },
  {
   "cell_type": "code",
   "execution_count": null,
   "metadata": {},
   "outputs": [],
   "source": [
    "import random\n",
    "\n",
    "random.sample([[1, 3], [5, 6], [9, 3]], 2)"
   ]
  }
 ],
 "metadata": {
  "kernelspec": {
   "display_name": "Python 3",
   "language": "python",
   "name": "python3"
  },
  "language_info": {
   "codemirror_mode": {
    "name": "ipython",
    "version": 3
   },
   "file_extension": ".py",
   "mimetype": "text/x-python",
   "name": "python",
   "nbconvert_exporter": "python",
   "pygments_lexer": "ipython3",
   "version": "3.10.12"
  }
 },
 "nbformat": 4,
 "nbformat_minor": 2
}
