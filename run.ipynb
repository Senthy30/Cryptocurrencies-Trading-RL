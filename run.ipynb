{
 "cells": [
  {
   "cell_type": "code",
   "execution_count": 1,
   "metadata": {},
   "outputs": [],
   "source": [
    "import numpy as np\n",
    "import time\n",
    "import os\n",
    "os.environ['TF_CPP_MIN_LOG_LEVEL'] = '3' \n",
    "\n",
    "import tensorflow as tf\n",
    "from Dataset import BitcoinData\n",
    "from TradingEnvironment import TradingEnvironment\n",
    "from Models import DQN\n",
    "\n",
    "tf.keras.utils.disable_interactive_logging()\n",
    "\n",
    "NUM_EPISODES = 300"
   ]
  },
  {
   "cell_type": "code",
   "execution_count": null,
   "metadata": {},
   "outputs": [],
   "source": []
  },
  {
   "cell_type": "code",
   "execution_count": 5,
   "metadata": {},
   "outputs": [
    {
     "name": "stdout",
     "output_type": "stream",
     "text": [
      "Dataset already downloaded!\n",
      "Reading dataset...\n",
      "Dataset read!\n"
     ]
    }
   ],
   "source": [
    "bitcoin_data = BitcoinData()\n",
    "\n",
    "def cryptocurrencies_trading(load_model_value = -1):\n",
    "    environment = TradingEnvironment(bitcoin_data)\n",
    "\n",
    "    observation_space = environment.get_observation_space()\n",
    "    action_space = environment.get_action_space()\n",
    "    episode = 0\n",
    "\n",
    "    agent = DQN(observation_space, action_space, load_model_value=load_model_value)\n",
    "\n",
    "    while episode < NUM_EPISODES:\n",
    "        episode += 1\n",
    "        state = environment.reset()\n",
    "        step = 0\n",
    "        while True:\n",
    "            step += 1\n",
    "            action = agent.act(np.reshape(state, [1, observation_space]))\n",
    "            next_state, reward, done, info = environment.step(action - 1)\n",
    "\n",
    "            agent.memory.remember(state, action, reward, next_state, done)\n",
    "            agent.learn()\n",
    "\n",
    "            state = next_state\n",
    "\n",
    "            if done:\n",
    "                print(\"Episode: {}/{}, profit: {:.4f}, min_profit: {:.4}, max_profit: {:.4}\".format(\n",
    "                    episode, NUM_EPISODES, environment.percent_profit, environment.min_percent_profit, environment.max_percent_profit))\n",
    "                break\n",
    "\n",
    "            if (step - 1) % 100 == 0:\n",
    "                print(\"Step: {}, profit: {:.4f}, min_profit: {:.4f}, max_profit: {:.4f}\".format(\n",
    "                    step - 1, environment.percent_profit, environment.min_percent_profit, environment.max_percent_profit))\n",
    "                \n",
    "        agent.model.save(f\"Models/Checkpoint/Model_{episode}.keras\")"
   ]
  },
  {
   "cell_type": "code",
   "execution_count": 4,
   "metadata": {},
   "outputs": [
    {
     "ename": "TypeError",
     "evalue": "cryptocurrencies_trading() takes 0 positional arguments but 1 was given",
     "output_type": "error",
     "traceback": [
      "\u001b[0;31m---------------------------------------------------------------------------\u001b[0m",
      "\u001b[0;31mTypeError\u001b[0m                                 Traceback (most recent call last)",
      "Cell \u001b[0;32mIn[4], line 1\u001b[0m\n\u001b[0;32m----> 1\u001b[0m \u001b[43mcryptocurrencies_trading\u001b[49m\u001b[43m(\u001b[49m\u001b[38;5;241;43m3\u001b[39;49m\u001b[43m)\u001b[49m\n",
      "\u001b[0;31mTypeError\u001b[0m: cryptocurrencies_trading() takes 0 positional arguments but 1 was given"
     ]
    }
   ],
   "source": [
    "cryptocurrencies_trading()"
   ]
  }
 ],
 "metadata": {
  "kernelspec": {
   "display_name": "Python 3",
   "language": "python",
   "name": "python3"
  },
  "language_info": {
   "codemirror_mode": {
    "name": "ipython",
    "version": 3
   },
   "file_extension": ".py",
   "mimetype": "text/x-python",
   "name": "python",
   "nbconvert_exporter": "python",
   "pygments_lexer": "ipython3",
   "version": "3.10.12"
  }
 },
 "nbformat": 4,
 "nbformat_minor": 2
}
