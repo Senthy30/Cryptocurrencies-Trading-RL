{
 "cells": [
  {
   "cell_type": "code",
   "execution_count": null,
   "metadata": {},
   "outputs": [],
   "source": [
    "import numpy as np\n",
    "import time\n",
    "import os\n",
    "os.environ['TF_CPP_MIN_LOG_LEVEL'] = '3' \n",
    "\n",
    "import tensorflow as tf\n",
    "from Plots import plot_action_profit_percent\n",
    "from Dataset import BitcoinData\n",
    "from TradingEnvironment import TradingEnvironment\n",
    "from Models import DoubleDQN\n",
    "\n",
    "from keras.models import load_model\n",
    "\n",
    "tf.keras.utils.disable_interactive_logging()\n",
    "\n",
    "NUM_EPISODES = 1\n",
    "NUM_EPISODES_TEST = 1\n",
    "\n",
    "MODEL_DQN = 0\n",
    "MODEL_DOUBLE_DQN = 1\n",
    "MODEL_DUELING_DQN = 2"
   ]
  },
  {
   "cell_type": "code",
   "execution_count": null,
   "metadata": {},
   "outputs": [],
   "source": [
    "def get_environment(start_time=0):\n",
    "    bitcoin_data = BitcoinData()\n",
    "\n",
    "    return TradingEnvironment(bitcoin_data, start_time=start_time)\n",
    "\n",
    "def get_agent(environment, model_type, load_version=-1, load_model_num=-1):\n",
    "    observation_space = environment.get_observation_space()\n",
    "    action_space = environment.get_action_space()\n",
    "\n",
    "    if model_type == MODEL_DOUBLE_DQN:\n",
    "        return DoubleDQN(observation_space, action_space, model_path=\"DoubleDQN\", \n",
    "                         load_version=load_version, load_model_num=load_model_num)    \n",
    "    return None\n",
    "\n",
    "def cryptocurrencies_trading(agent, environment, train=True):\n",
    "    observation_space = environment.get_observation_space()\n",
    "    episode = 0\n",
    "\n",
    "    while episode < NUM_EPISODES:\n",
    "        episode += 1\n",
    "        state = environment.reset()\n",
    "        step = 0\n",
    "        while True:\n",
    "            step += 1\n",
    "            action = agent.act(np.reshape(state, [1, observation_space]))\n",
    "            next_state, reward, done, info = environment.step(action - 1)\n",
    "\n",
    "            if train:\n",
    "                agent.memory.remember(state, action, reward, next_state, done)\n",
    "                agent.learn()\n",
    "\n",
    "            state = next_state\n",
    "\n",
    "            if (step - 1) % 100 == 0:\n",
    "                print(\"Step {}:\".format(step - 1))\n",
    "                print(\"    Percent Capital: {:.4f}, interval: [{:.4f}, {:.4f}]\".format(\n",
    "                    environment.percent_profit, environment.min_percent_profit, environment.max_percent_profit\n",
    "                ))\n",
    "                print(\"    Action taked by itseft: SELL: {}, HOLD: {}, BUY: {}\".format(\n",
    "                    agent.actions_taked_by_itself[0], agent.actions_taked_by_itself[1], agent.actions_taked_by_itself[2]\n",
    "                ))\n",
    "\n",
    "                agent.actions_taked_by_itself = [0, 0, 0]\n",
    "\n",
    "            if done:\n",
    "                print(\"Episode {}/{} ended\\n\", episode, NUM_EPISODES)\n",
    "                break\n",
    "\n",
    "        if train: \n",
    "            agent.save_model()\n"
   ]
  },
  {
   "cell_type": "code",
   "execution_count": null,
   "metadata": {},
   "outputs": [],
   "source": [
    "environment = get_environment()\n",
    "agent = get_agent(environment, MODEL_DOUBLE_DQN)\n",
    "\n",
    "cryptocurrencies_trading(agent, environment)"
   ]
  },
  {
   "cell_type": "code",
   "execution_count": null,
   "metadata": {},
   "outputs": [],
   "source": [
    "last_episode = 2\n",
    "start_time = TradingEnvironment.NUM_OBSERVATIONS * last_episode\n",
    "load_version = 7\n",
    "load_model_num = -1\n",
    "\n",
    "environment = get_environment(start_time=start_time)\n",
    "agent = get_agent(environment, MODEL_DOUBLE_DQN, load_version=load_version, load_model_num=load_model_num)\n",
    "agent.exploration_rate = 0.0\n",
    "\n",
    "#cryptocurrencies_trading(agent, environment, train=False)"
   ]
  },
  {
   "cell_type": "code",
   "execution_count": null,
   "metadata": {},
   "outputs": [],
   "source": [
    "start_time = 0\n",
    "end_time = start_time + 1000\n",
    "plot_action_profit_percent(agent.memory.states, agent.memory.actions, agent.memory.rewards, agent.memory.dones, start_time=start_time, end_time=end_time)"
   ]
  },
  {
   "cell_type": "code",
   "execution_count": null,
   "metadata": {},
   "outputs": [],
   "source": [
    "agent = DoubleDQN(environment.get_observation_space(), environment.get_action_space(), model_path=\"DoubleDQN\")"
   ]
  },
  {
   "cell_type": "code",
   "execution_count": null,
   "metadata": {},
   "outputs": [],
   "source": [
    "state = environment.reset()\n",
    "for i in range(0, 100):\n",
    "    next_state, reward, done, info = environment.step(0)\n",
    "    agent.memory.remember(state, 0, reward, next_state, done)\n",
    "    state = next_state\n",
    "\n"
   ]
  },
  {
   "cell_type": "code",
   "execution_count": null,
   "metadata": {},
   "outputs": [],
   "source": [
    "path_to_memory = os.path.join(agent.model_path, agent.MEMORY_FILENAME)\n",
    "agent.save_model()"
   ]
  },
  {
   "cell_type": "code",
   "execution_count": null,
   "metadata": {},
   "outputs": [],
   "source": [
    "np.set_printoptions(suppress=True)\n",
    "agent.memory.states[0:55]"
   ]
  },
  {
   "cell_type": "code",
   "execution_count": null,
   "metadata": {},
   "outputs": [],
   "source": [
    "np.random.choice(5, 3, replace=False)"
   ]
  },
  {
   "cell_type": "code",
   "execution_count": null,
   "metadata": {},
   "outputs": [],
   "source": [
    "environment.wallet"
   ]
  }
 ],
 "metadata": {
  "kernelspec": {
   "display_name": "Python 3",
   "language": "python",
   "name": "python3"
  },
  "language_info": {
   "codemirror_mode": {
    "name": "ipython",
    "version": 3
   },
   "file_extension": ".py",
   "mimetype": "text/x-python",
   "name": "python",
   "nbconvert_exporter": "python",
   "pygments_lexer": "ipython3",
   "version": "3.10.12"
  }
 },
 "nbformat": 4,
 "nbformat_minor": 2
}
