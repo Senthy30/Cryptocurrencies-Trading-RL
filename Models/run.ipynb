Step 100, exploration rate 0.0 ====>
    Percent Capital: 1.0022, interval: [1.0000, 1.0024]
    Action taked by itseft: SELL: 50, HOLD: 0, BUY: 50
Step 200, exploration rate 0.0 ====>
    Percent Capital: 1.0021, interval: [1.0000, 1.0036]
    Action taked by itseft: SELL: 49, HOLD: 1, BUY: 50
Step 300, exploration rate 0.0 ====>
    Percent Capital: 1.0043, interval: [1.0000, 1.0043]
    Action taked by itseft: SELL: 50, HOLD: 1, BUY: 49
Step 400, exploration rate 0.0 ====>
    Percent Capital: 1.0018, interval: [1.0000, 1.0043]
    Action taked by itseft: SELL: 49, HOLD: 1, BUY: 50
Step 500, exploration rate 0.0 ====>
    Percent Capital: 1.0031, interval: [1.0000, 1.0046]
    Action taked by itseft: SELL: 48, HOLD: 4, BUY: 48
Step 600, exploration rate 0.0 ====>
    Percent Capital: 1.0014, interval: [1.0000, 1.0046]
    Action taked by itseft: SELL: 50, HOLD: 0, BUY: 50
Step 700, exploration rate 0.0 ====>
    Percent Capital: 0.9994, interval: [0.9988, 1.0046]
    Action taked by itseft: SELL: 50, HOLD: 1, BUY: 49
Step 800, exploration rate 0.0 ====>
    Percent Capital: 0.9972, interval: [0.9972, 1.0046]
    Action taked by itseft: SELL: 50, HOLD: 0, BUY: 50
Step 900, exploration rate 0.0 ====>
    Percent Capital: 0.9960, interval: [0.9947, 1.0046]
    Action taked by itseft: SELL: 50, HOLD: 0, BUY: 50
Step 1000, exploration rate 0.0 ====>
    Percent Capital: 0.9946, interval: [0.9932, 1.0046]
    Action taked by itseft: SELL: 49, HOLD: 2, BUY: 49
Episode 1/20 ended

Step 100, exploration rate 0.0 ====>
    Percent Capital: 0.9991, interval: [0.9989, 1.0005]
    Action taked by itseft: SELL: 50, HOLD: 0, BUY: 50
Step 200, exploration rate 0.0 ====>
    Percent Capital: 1.0004, interval: [0.9989, 1.0016]
    Action taked by itseft: SELL: 48, HOLD: 3, BUY: 49
Step 300, exploration rate 0.0 ====>
    Percent Capital: 0.9959, interval: [0.9950, 1.0016]
    Action taked by itseft: SELL: 49, HOLD: 2, BUY: 49
Step 400, exploration rate 0.0 ====>
    Percent Capital: 0.9907, interval: [0.9907, 1.0016]
    Action taked by itseft: SELL: 49, HOLD: 3, BUY: 48
Step 500, exploration rate 0.0 ====>
    Percent Capital: 0.9924, interval: [0.9879, 1.0016]
    Action taked by itseft: SELL: 47, HOLD: 5, BUY: 48
Step 600, exploration rate 0.0 ====>
    Percent Capital: 0.9923, interval: [0.9879, 1.0016]
    Action taked by itseft: SELL: 49, HOLD: 2, BUY: 49
Step 700, exploration rate 0.0 ====>
    Percent Capital: 0.9944, interval: [0.9879, 1.0016]
    Action taked by itseft: SELL: 50, HOLD: 0, BUY: 50
Step 800, exploration rate 0.0 ====>
    Percent Capital: 0.9942, interval: [0.9879, 1.0016]
    Action taked by itseft: SELL: 49, HOLD: 2, BUY: 49
Step 900, exploration rate 0.0 ====>
    Percent Capital: 0.9976, interval: [0.9879, 1.0016]
    Action taked by itseft: SELL: 49, HOLD: 3, BUY: 48
Step 1000, exploration rate 0.0 ====>
    Percent Capital: 0.9974, interval: [0.9879, 1.0016]
    Action taked by itseft: SELL: 48, HOLD: 3, BUY: 49
Episode 2/20 ended

Step 100, exploration rate 0.0 ====>
    Percent Capital: 1.0042, interval: [1.0000, 1.0046]
    Action taked by itseft: SELL: 50, HOLD: 0, BUY: 50
Step 200, exploration rate 0.0 ====>
    Percent Capital: 1.0036, interval: [1.0000, 1.0059]
    Action taked by itseft: SELL: 50, HOLD: 0, BUY: 50
Step 300, exploration rate 0.0 ====>
    Percent Capital: 1.0050, interval: [1.0000, 1.0063]
    Action taked by itseft: SELL: 47, HOLD: 5, BUY: 48
Step 400, exploration rate 0.0 ====>
    Percent Capital: 1.0079, interval: [1.0000, 1.0089]
    Action taked by itseft: SELL: 49, HOLD: 3, BUY: 48
Step 500, exploration rate 0.0 ====>
    Percent Capital: 1.0097, interval: [1.0000, 1.0117]
    Action taked by itseft: SELL: 48, HOLD: 4, BUY: 48
Step 600, exploration rate 0.0 ====>
    Percent Capital: 1.0034, interval: [1.0000, 1.0117]
    Action taked by itseft: SELL: 49, HOLD: 2, BUY: 49
Step 700, exploration rate 0.0 ====>
    Percent Capital: 1.0069, interval: [1.0000, 1.0117]
    Action taked by itseft: SELL: 46, HOLD: 7, BUY: 47
Step 800, exploration rate 0.0 ====>
    Percent Capital: 1.0052, interval: [1.0000, 1.0117]
    Action taked by itseft: SELL: 47, HOLD: 7, BUY: 46
Step 900, exploration rate 0.0 ====>
    Percent Capital: 1.0078, interval: [1.0000, 1.0117]
    Action taked by itseft: SELL: 45, HOLD: 10, BUY: 45
Step 1000, exploration rate 0.0 ====>
    Percent Capital: 1.0102, interval: [1.0000, 1.0117]
    Action taked by itseft: SELL: 45, HOLD: 9, BUY: 46
Episode 3/20 ended

Step 100, exploration rate 0.0 ====>
    Percent Capital: 0.9998, interval: [0.9992, 1.0016]
    Action taked by itseft: SELL: 47, HOLD: 6, BUY: 47
Step 200, exploration rate 0.0 ====>
    Percent Capital: 1.0025, interval: [0.9992, 1.0034]
    Action taked by itseft: SELL: 47, HOLD: 6, BUY: 47
Step 300, exploration rate 0.0 ====>
    Percent Capital: 1.0002, interval: [0.9992, 1.0034]
    Action taked by itseft: SELL: 48, HOLD: 3, BUY: 49
Step 400, exploration rate 0.0 ====>
    Percent Capital: 0.9996, interval: [0.9973, 1.0034]
    Action taked by itseft: SELL: 50, HOLD: 0, BUY: 50
Step 500, exploration rate 0.0 ====>
    Percent Capital: 0.9973, interval: [0.9973, 1.0034]
    Action taked by itseft: SELL: 49, HOLD: 3, BUY: 48
Step 600, exploration rate 0.0 ====>
    Percent Capital: 0.9965, interval: [0.9954, 1.0034]
    Action taked by itseft: SELL: 48, HOLD: 3, BUY: 49
Step 700, exploration rate 0.0 ====>
    Percent Capital: 0.9966, interval: [0.9953, 1.0034]
    Action taked by itseft: SELL: 43, HOLD: 15, BUY: 42
Step 800, exploration rate 0.0 ====>
    Percent Capital: 0.9961, interval: [0.9953, 1.0034]
    Action taked by itseft: SELL: 44, HOLD: 12, BUY: 44
Step 900, exploration rate 0.0 ====>
    Percent Capital: 0.9994, interval: [0.9953, 1.0034]
    Action taked by itseft: SELL: 46, HOLD: 7, BUY: 47
Step 1000, exploration rate 0.0 ====>
    Percent Capital: 1.0144, interval: [0.9953, 1.0152]
    Action taked by itseft: SELL: 21, HOLD: 59, BUY: 20
Episode 4/20 ended

Step 100, exploration rate 0.0 ====>
    Percent Capital: 1.0029, interval: [0.9992, 1.0041]
    Action taked by itseft: SELL: 44, HOLD: 11, BUY: 45
Step 200, exploration rate 0.0 ====>
    Percent Capital: 1.0092, interval: [0.9992, 1.0100]
    Action taked by itseft: SELL: 40, HOLD: 20, BUY: 40
Step 300, exploration rate 0.0 ====>
    Percent Capital: 1.0014, interval: [0.9984, 1.0100]
    Action taked by itseft: SELL: 33, HOLD: 34, BUY: 33
Step 400, exploration rate 0.0 ====>
    Percent Capital: 1.0032, interval: [0.9983, 1.0100]
    Action taked by itseft: SELL: 45, HOLD: 10, BUY: 45
Step 500, exploration rate 0.0 ====>
    Percent Capital: 1.0040, interval: [0.9983, 1.0100]
    Action taked by itseft: SELL: 46, HOLD: 9, BUY: 45
Step 600, exploration rate 0.0 ====>
    Percent Capital: 1.0071, interval: [0.9983, 1.0144]
    Action taked by itseft: SELL: 41, HOLD: 18, BUY: 41
Step 700, exploration rate 0.0 ====>
    Percent Capital: 1.0041, interval: [0.9983, 1.0144]
    Action taked by itseft: SELL: 44, HOLD: 12, BUY: 44
Step 800, exploration rate 0.0 ====>
    Percent Capital: 1.0073, interval: [0.9983, 1.0144]
    Action taked by itseft: SELL: 38, HOLD: 24, BUY: 38
Step 900, exploration rate 0.0 ====>
    Percent Capital: 1.0040, interval: [0.9983, 1.0144]
    Action taked by itseft: SELL: 44, HOLD: 11, BUY: 45
Step 1000, exploration rate 0.0 ====>
    Percent Capital: 1.0085, interval: [0.9983, 1.0144]
    Action taked by itseft: SELL: 47, HOLD: 6, BUY: 47
Episode 5/20 ended

Step 100, exploration rate 0.0 ====>
    Percent Capital: 1.0054, interval: [0.9982, 1.0069]
    Action taked by itseft: SELL: 47, HOLD: 6, BUY: 47
Step 200, exploration rate 0.0 ====>
    Percent Capital: 1.0077, interval: [0.9982, 1.0094]
    Action taked by itseft: SELL: 39, HOLD: 22, BUY: 39
Step 300, exploration rate 0.0 ====>
    Percent Capital: 1.0002, interval: [0.9979, 1.0094]
    Action taked by itseft: SELL: 34, HOLD: 32, BUY: 34
Step 400, exploration rate 0.0 ====>
    Percent Capital: 0.9961, interval: [0.9960, 1.0094]
    Action taked by itseft: SELL: 43, HOLD: 13, BUY: 44
Step 500, exploration rate 0.0 ====>
    Percent Capital: 0.9965, interval: [0.9926, 1.0094]
    Action taked by itseft: SELL: 39, HOLD: 22, BUY: 39
Step 600, exploration rate 0.0 ====>
    Percent Capital: 0.9979, interval: [0.9926, 1.0094]
    Action taked by itseft: SELL: 47, HOLD: 6, BUY: 47
Step 700, exploration rate 0.0 ====>
    Percent Capital: 0.9976, interval: [0.9926, 1.0094]
    Action taked by itseft: SELL: 44, HOLD: 13, BUY: 43
Step 800, exploration rate 0.0 ====>
    Percent Capital: 0.9973, interval: [0.9926, 1.0094]
    Action taked by itseft: SELL: 44, HOLD: 12, BUY: 44
Step 900, exploration rate 0.0 ====>
    Percent Capital: 0.9999, interval: [0.9926, 1.0094]
    Action taked by itseft: SELL: 48, HOLD: 4, BUY: 48
Step 1000, exploration rate 0.0 ====>
    Percent Capital: 0.9999, interval: [0.9926, 1.0094]
    Action taked by itseft: SELL: 37, HOLD: 25, BUY: 38
Episode 6/20 ended

Step 100, exploration rate 0.0 ====>
    Percent Capital: 1.0019, interval: [0.9982, 1.0019]
    Action taked by itseft: SELL: 43, HOLD: 13, BUY: 44
Step 200, exploration rate 0.0 ====>
    Percent Capital: 1.0002, interval: [0.9982, 1.0041]
    Action taked by itseft: SELL: 45, HOLD: 10, BUY: 45
Step 300, exploration rate 0.0 ====>
    Percent Capital: 1.0075, interval: [0.9982, 1.0098]
    Action taked by itseft: SELL: 41, HOLD: 19, BUY: 40
Step 400, exploration rate 0.0 ====>
    Percent Capital: 1.0108, interval: [0.9982, 1.0108]
    Action taked by itseft: SELL: 47, HOLD: 6, BUY: 47
Step 500, exploration rate 0.0 ====>
    Percent Capital: 1.0131, interval: [0.9982, 1.0135]
    Action taked by itseft: SELL: 44, HOLD: 11, BUY: 45
Step 600, exploration rate 0.0 ====>
    Percent Capital: 1.0169, interval: [0.9982, 1.0177]
    Action taked by itseft: SELL: 44, HOLD: 12, BUY: 44
Step 700, exploration rate 0.0 ====>
    Percent Capital: 1.0193, interval: [0.9982, 1.0200]
    Action taked by itseft: SELL: 39, HOLD: 22, BUY: 39
Step 800, exploration rate 0.0 ====>
    Percent Capital: 1.0220, interval: [0.9982, 1.0225]
    Action taked by itseft: SELL: 41, HOLD: 19, BUY: 40
Step 900, exploration rate 0.0 ====>
    Percent Capital: 1.0208, interval: [0.9982, 1.0226]
    Action taked by itseft: SELL: 41, HOLD: 18, BUY: 41
Step 1000, exploration rate 0.0 ====>
    Percent Capital: 1.0173, interval: [0.9982, 1.0226]
    Action taked by itseft: SELL: 44, HOLD: 12, BUY: 44
Episode 7/20 ended

Step 100, exploration rate 0.0 ====>
    Percent Capital: 1.0041, interval: [0.9974, 1.0044]
    Action taked by itseft: SELL: 34, HOLD: 32, BUY: 34
Step 200, exploration rate 0.0 ====>
    Percent Capital: 1.0006, interval: [0.9974, 1.0046]
    Action taked by itseft: SELL: 35, HOLD: 30, BUY: 35
Step 300, exploration rate 0.0 ====>
    Percent Capital: 0.9993, interval: [0.9974, 1.0046]
    Action taked by itseft: SELL: 41, HOLD: 18, BUY: 41
Step 400, exploration rate 0.0 ====>
    Percent Capital: 1.0086, interval: [0.9974, 1.0089]
    Action taked by itseft: SELL: 42, HOLD: 16, BUY: 42
Step 500, exploration rate 0.0 ====>
    Percent Capital: 1.0132, interval: [0.9974, 1.0133]
    Action taked by itseft: SELL: 43, HOLD: 13, BUY: 44
Step 600, exploration rate 0.0 ====>
    Percent Capital: 1.0165, interval: [0.9974, 1.0165]
    Action taked by itseft: SELL: 44, HOLD: 13, BUY: 43
Step 700, exploration rate 0.0 ====>
    Percent Capital: 1.0171, interval: [0.9974, 1.0200]
    Action taked by itseft: SELL: 36, HOLD: 27, BUY: 37
Step 800, exploration rate 0.0 ====>
    Percent Capital: 1.0188, interval: [0.9974, 1.0200]
    Action taked by itseft: SELL: 39, HOLD: 22, BUY: 39
Step 900, exploration rate 0.0 ====>
    Percent Capital: 1.0233, interval: [0.9974, 1.0233]
    Action taked by itseft: SELL: 37, HOLD: 26, BUY: 37
Step 1000, exploration rate 0.0 ====>
    Percent Capital: 1.0180, interval: [0.9974, 1.0246]
    Action taked by itseft: SELL: 28, HOLD: 46, BUY: 26
Episode 8/20 ended

Step 100, exploration rate 0.0 ====>
    Percent Capital: 1.0075, interval: [0.9974, 1.0084]
    Action taked by itseft: SELL: 39, HOLD: 22, BUY: 39
Step 200, exploration rate 0.0 ====>
    Percent Capital: 1.0012, interval: [0.9967, 1.0084]
    Action taked by itseft: SELL: 42, HOLD: 17, BUY: 41
Step 300, exploration rate 0.0 ====>
    Percent Capital: 1.0052, interval: [0.9967, 1.0084]
    Action taked by itseft: SELL: 37, HOLD: 26, BUY: 37
Step 400, exploration rate 0.0 ====>
    Percent Capital: 1.0002, interval: [0.9967, 1.0084]
    Action taked by itseft: SELL: 39, HOLD: 21, BUY: 40
Step 500, exploration rate 0.0 ====>
    Percent Capital: 1.0021, interval: [0.9967, 1.0084]
    Action taked by itseft: SELL: 39, HOLD: 22, BUY: 39
Step 600, exploration rate 0.0 ====>
    Percent Capital: 1.0029, interval: [0.9967, 1.0084]
    Action taked by itseft: SELL: 40, HOLD: 21, BUY: 39
Step 700, exploration rate 0.0 ====>
    Percent Capital: 1.0002, interval: [0.9967, 1.0084]
    Action taked by itseft: SELL: 42, HOLD: 15, BUY: 43
Step 800, exploration rate 0.0 ====>
    Percent Capital: 0.9993, interval: [0.9967, 1.0084]
    Action taked by itseft: SELL: 47, HOLD: 6, BUY: 47
Step 900, exploration rate 0.0 ====>
    Percent Capital: 0.9994, interval: [0.9967, 1.0084]
    Action taked by itseft: SELL: 46, HOLD: 7, BUY: 47
Step 1000, exploration rate 0.0 ====>
    Percent Capital: 0.9957, interval: [0.9957, 1.0084]
    Action taked by itseft: SELL: 41, HOLD: 20, BUY: 39
Episode 9/20 ended

Step 100, exploration rate 0.0 ====>
    Percent Capital: 0.9977, interval: [0.9951, 1.0015]
    Action taked by itseft: SELL: 47, HOLD: 6, BUY: 47
Step 200, exploration rate 0.0 ====>
    Percent Capital: 0.9968, interval: [0.9916, 1.0015]
    Action taked by itseft: SELL: 47, HOLD: 6, BUY: 47
Step 300, exploration rate 0.0 ====>
    Percent Capital: 0.9996, interval: [0.9916, 1.0015]
    Action taked by itseft: SELL: 49, HOLD: 2, BUY: 49
Step 400, exploration rate 0.0 ====>
    Percent Capital: 0.9976, interval: [0.9916, 1.0015]
    Action taked by itseft: SELL: 48, HOLD: 4, BUY: 48
Step 500, exploration rate 0.0 ====>
    Percent Capital: 0.9907, interval: [0.9904, 1.0015]
    Action taked by itseft: SELL: 43, HOLD: 14, BUY: 43
Step 600, exploration rate 0.0 ====>
    Percent Capital: 0.9908, interval: [0.9883, 1.0015]
    Action taked by itseft: SELL: 46, HOLD: 8, BUY: 46
Step 700, exploration rate 0.0 ====>
    Percent Capital: 0.9832, interval: [0.9819, 1.0015]
    Action taked by itseft: SELL: 48, HOLD: 4, BUY: 48
Step 800, exploration rate 0.0 ====>
    Percent Capital: 0.9851, interval: [0.9800, 1.0015]
    Action taked by itseft: SELL: 48, HOLD: 3, BUY: 49
Step 900, exploration rate 0.0 ====>
    Percent Capital: 0.9881, interval: [0.9800, 1.0015]
    Action taked by itseft: SELL: 49, HOLD: 3, BUY: 48
Step 1000, exploration rate 0.0 ====>
    Percent Capital: 0.9879, interval: [0.9800, 1.0015]
    Action taked by itseft: SELL: 39, HOLD: 21, BUY: 40
Episode 10/20 ended

Step 100, exploration rate 0.0 ====>
    Percent Capital: 0.9925, interval: [0.9904, 1.0008]
    Action taked by itseft: SELL: 34, HOLD: 33, BUY: 33
Step 200, exploration rate 0.0 ====>
    Percent Capital: 1.0002, interval: [0.9904, 1.0019]
    Action taked by itseft: SELL: 37, HOLD: 25, BUY: 38
Step 300, exploration rate 0.0 ====>
    Percent Capital: 0.9966, interval: [0.9904, 1.0019]
    Action taked by itseft: SELL: 46, HOLD: 9, BUY: 45
Step 400, exploration rate 0.0 ====>
    Percent Capital: 1.0010, interval: [0.9904, 1.0023]
    Action taked by itseft: SELL: 43, HOLD: 13, BUY: 44
Step 500, exploration rate 0.0 ====>
    Percent Capital: 1.0029, interval: [0.9904, 1.0037]
    Action taked by itseft: SELL: 44, HOLD: 12, BUY: 44
Step 600, exploration rate 0.0 ====>
    Percent Capital: 1.0052, interval: [0.9904, 1.0054]
    Action taked by itseft: SELL: 47, HOLD: 5, BUY: 48
Step 700, exploration rate 0.0 ====>
    Percent Capital: 1.0060, interval: [0.9904, 1.0061]
    Action taked by itseft: SELL: 48, HOLD: 5, BUY: 47
Step 800, exploration rate 0.0 ====>
    Percent Capital: 1.0057, interval: [0.9904, 1.0063]
    Action taked by itseft: SELL: 49, HOLD: 1, BUY: 50
Step 900, exploration rate 0.0 ====>
    Percent Capital: 1.0071, interval: [0.9904, 1.0071]
    Action taked by itseft: SELL: 48, HOLD: 4, BUY: 48
Step 1000, exploration rate 0.0 ====>
    Percent Capital: 1.0099, interval: [0.9904, 1.0099]
    Action taked by itseft: SELL: 49, HOLD: 2, BUY: 49
Episode 11/20 ended

Step 100, exploration rate 0.0 ====>
    Percent Capital: 1.0044, interval: [0.9999, 1.0062]
    Action taked by itseft: SELL: 42, HOLD: 16, BUY: 42
Step 200, exploration rate 0.0 ====>
    Percent Capital: 0.9993, interval: [0.9993, 1.0062]
    Action taked by itseft: SELL: 42, HOLD: 16, BUY: 42
Step 300, exploration rate 0.0 ====>
    Percent Capital: 1.0021, interval: [0.9967, 1.0062]
    Action taked by itseft: SELL: 36, HOLD: 27, BUY: 37
Step 400, exploration rate 0.0 ====>
    Percent Capital: 1.0002, interval: [0.9967, 1.0062]
    Action taked by itseft: SELL: 43, HOLD: 16, BUY: 41
Step 500, exploration rate 0.0 ====>
    Percent Capital: 1.0142, interval: [0.9967, 1.0152]
    Action taked by itseft: SELL: 38, HOLD: 24, BUY: 38
Step 600, exploration rate 0.0 ====>
    Percent Capital: 1.0181, interval: [0.9967, 1.0181]
    Action taked by itseft: SELL: 42, HOLD: 16, BUY: 42
Step 700, exploration rate 0.0 ====>
    Percent Capital: 1.0176, interval: [0.9967, 1.0201]
    Action taked by itseft: SELL: 45, HOLD: 9, BUY: 46
Step 800, exploration rate 0.0 ====>
    Percent Capital: 1.0136, interval: [0.9967, 1.0201]
    Action taked by itseft: SELL: 48, HOLD: 3, BUY: 49
Step 900, exploration rate 0.0 ====>
    Percent Capital: 1.0170, interval: [0.9967, 1.0201]
    Action taked by itseft: SELL: 49, HOLD: 3, BUY: 48
Step 1000, exploration rate 0.0 ====>
    Percent Capital: 1.0181, interval: [0.9967, 1.0201]
    Action taked by itseft: SELL: 43, HOLD: 13, BUY: 44
Episode 12/20 ended

Step 100, exploration rate 0.0 ====>
    Percent Capital: 1.0028, interval: [0.9985, 1.0038]
    Action taked by itseft: SELL: 49, HOLD: 2, BUY: 49
Step 200, exploration rate 0.0 ====>
    Percent Capital: 0.9946, interval: [0.9945, 1.0040]
    Action taked by itseft: SELL: 48, HOLD: 5, BUY: 47
Step 300, exploration rate 0.0 ====>
    Percent Capital: 0.9931, interval: [0.9931, 1.0040]
    Action taked by itseft: SELL: 45, HOLD: 9, BUY: 46
Step 400, exploration rate 0.0 ====>
    Percent Capital: 0.9899, interval: [0.9886, 1.0040]
    Action taked by itseft: SELL: 45, HOLD: 9, BUY: 46
Step 500, exploration rate 0.0 ====>
    Percent Capital: 0.9870, interval: [0.9843, 1.0040]
    Action taked by itseft: SELL: 41, HOLD: 18, BUY: 41
Step 600, exploration rate 0.0 ====>
    Percent Capital: 0.9801, interval: [0.9784, 1.0040]
    Action taked by itseft: SELL: 37, HOLD: 26, BUY: 37
Step 700, exploration rate 0.0 ====>
    Percent Capital: 0.9874, interval: [0.9784, 1.0040]
    Action taked by itseft: SELL: 36, HOLD: 28, BUY: 36
Step 800, exploration rate 0.0 ====>
    Percent Capital: 0.9791, interval: [0.9784, 1.0040]
    Action taked by itseft: SELL: 43, HOLD: 15, BUY: 42
Step 900, exploration rate 0.0 ====>
    Percent Capital: 0.9753, interval: [0.9751, 1.0040]
    Action taked by itseft: SELL: 42, HOLD: 17, BUY: 41
Step 1000, exploration rate 0.0 ====>
    Percent Capital: 0.9729, interval: [0.9729, 1.0040]
    Action taked by itseft: SELL: 45, HOLD: 8, BUY: 47
Episode 13/20 ended

Step 100, exploration rate 0.0 ====>
    Percent Capital: 0.9962, interval: [0.9942, 1.0009]
    Action taked by itseft: SELL: 44, HOLD: 12, BUY: 44
Step 200, exploration rate 0.0 ====>
    Percent Capital: 0.9897, interval: [0.9876, 1.0009]
    Action taked by itseft: SELL: 46, HOLD: 8, BUY: 46
Step 300, exploration rate 0.0 ====>
    Percent Capital: 0.9898, interval: [0.9876, 1.0009]
    Action taked by itseft: SELL: 49, HOLD: 3, BUY: 48
Step 400, exploration rate 0.0 ====>
    Percent Capital: 0.9857, interval: [0.9838, 1.0009]
    Action taked by itseft: SELL: 41, HOLD: 16, BUY: 43
Step 500, exploration rate 0.0 ====>
    Percent Capital: 0.9860, interval: [0.9838, 1.0009]
    Action taked by itseft: SELL: 43, HOLD: 14, BUY: 43
Step 600, exploration rate 0.0 ====>
    Percent Capital: 0.9879, interval: [0.9838, 1.0009]
    Action taked by itseft: SELL: 43, HOLD: 16, BUY: 41
Step 700, exploration rate 0.0 ====>
    Percent Capital: 0.9876, interval: [0.9837, 1.0009]
    Action taked by itseft: SELL: 40, HOLD: 19, BUY: 41
Step 800, exploration rate 0.0 ====>
    Percent Capital: 0.9871, interval: [0.9837, 1.0009]
    Action taked by itseft: SELL: 36, HOLD: 28, BUY: 36
Step 900, exploration rate 0.0 ====>
    Percent Capital: 0.9830, interval: [0.9825, 1.0009]
    Action taked by itseft: SELL: 36, HOLD: 28, BUY: 36
Step 1000, exploration rate 0.0 ====>
    Percent Capital: 0.9798, interval: [0.9798, 1.0009]
    Action taked by itseft: SELL: 44, HOLD: 12, BUY: 44
Episode 14/20 ended

Step 100, exploration rate 0.0 ====>
    Percent Capital: 0.9975, interval: [0.9970, 1.0000]
    Action taked by itseft: SELL: 41, HOLD: 18, BUY: 41
Step 200, exploration rate 0.0 ====>
    Percent Capital: 1.0007, interval: [0.9970, 1.0019]
    Action taked by itseft: SELL: 40, HOLD: 19, BUY: 41
Step 300, exploration rate 0.0 ====>
    Percent Capital: 1.0019, interval: [0.9970, 1.0029]
    Action taked by itseft: SELL: 43, HOLD: 16, BUY: 41
Step 400, exploration rate 0.0 ====>
    Percent Capital: 1.0014, interval: [0.9970, 1.0029]
    Action taked by itseft: SELL: 45, HOLD: 10, BUY: 45
Step 500, exploration rate 0.0 ====>
    Percent Capital: 0.9986, interval: [0.9970, 1.0029]
    Action taked by itseft: SELL: 46, HOLD: 8, BUY: 46
Step 600, exploration rate 0.0 ====>
    Percent Capital: 0.9993, interval: [0.9970, 1.0029]
    Action taked by itseft: SELL: 44, HOLD: 11, BUY: 45
Step 700, exploration rate 0.0 ====>
    Percent Capital: 0.9996, interval: [0.9970, 1.0029]
    Action taked by itseft: SELL: 43, HOLD: 14, BUY: 43
Step 800, exploration rate 0.0 ====>
    Percent Capital: 1.0001, interval: [0.9962, 1.0029]
    Action taked by itseft: SELL: 45, HOLD: 10, BUY: 45
Step 900, exploration rate 0.0 ====>
    Percent Capital: 0.9939, interval: [0.9939, 1.0029]
    Action taked by itseft: SELL: 32, HOLD: 35, BUY: 33
Step 1000, exploration rate 0.0 ====>
    Percent Capital: 0.9894, interval: [0.9878, 1.0029]
    Action taked by itseft: SELL: 44, HOLD: 14, BUY: 42
Episode 15/20 ended

Step 100, exploration rate 0.0 ====>
    Percent Capital: 0.9980, interval: [0.9961, 1.0016]
    Action taked by itseft: SELL: 47, HOLD: 6, BUY: 47
Step 200, exploration rate 0.0 ====>
    Percent Capital: 0.9923, interval: [0.9903, 1.0016]
    Action taked by itseft: SELL: 39, HOLD: 21, BUY: 40
Step 300, exploration rate 0.0 ====>
    Percent Capital: 0.9599, interval: [0.9517, 1.0016]
    Action taked by itseft: SELL: 21, HOLD: 59, BUY: 20
Step 400, exploration rate 0.0 ====>
    Percent Capital: 0.9584, interval: [0.9517, 1.0016]
    Action taked by itseft: SELL: 25, HOLD: 50, BUY: 25
Step 500, exploration rate 0.0 ====>
    Percent Capital: 0.9582, interval: [0.9517, 1.0016]
    Action taked by itseft: SELL: 40, HOLD: 20, BUY: 40
Step 600, exploration rate 0.0 ====>
    Percent Capital: 0.9604, interval: [0.9517, 1.0016]
    Action taked by itseft: SELL: 40, HOLD: 20, BUY: 40
Step 700, exploration rate 0.0 ====>
    Percent Capital: 0.9631, interval: [0.9517, 1.0016]
    Action taked by itseft: SELL: 36, HOLD: 28, BUY: 36
Step 800, exploration rate 0.0 ====>
    Percent Capital: 0.9610, interval: [0.9517, 1.0016]
    Action taked by itseft: SELL: 42, HOLD: 16, BUY: 42
Step 900, exploration rate 0.0 ====>
    Percent Capital: 0.9586, interval: [0.9517, 1.0016]
    Action taked by itseft: SELL: 36, HOLD: 28, BUY: 36
Step 1000, exploration rate 0.0 ====>
    Percent Capital: 0.9630, interval: [0.9517, 1.0016]
    Action taked by itseft: SELL: 38, HOLD: 23, BUY: 39
Episode 16/20 ended

Step 100, exploration rate 0.0 ====>
    Percent Capital: 1.0007, interval: [0.9993, 1.0042]
    Action taked by itseft: SELL: 44, HOLD: 12, BUY: 44
Step 200, exploration rate 0.0 ====>
    Percent Capital: 0.9961, interval: [0.9961, 1.0042]
    Action taked by itseft: SELL: 44, HOLD: 12, BUY: 44
Step 300, exploration rate 0.0 ====>
    Percent Capital: 0.9987, interval: [0.9955, 1.0042]
    Action taked by itseft: SELL: 35, HOLD: 29, BUY: 36
Step 400, exploration rate 0.0 ====>
    Percent Capital: 1.0037, interval: [0.9955, 1.0042]
    Action taked by itseft: SELL: 28, HOLD: 45, BUY: 27
Step 500, exploration rate 0.0 ====>
    Percent Capital: 0.9961, interval: [0.9937, 1.0058]
    Action taked by itseft: SELL: 28, HOLD: 43, BUY: 29
Step 600, exploration rate 0.0 ====>
    Percent Capital: 0.9857, interval: [0.9854, 1.0058]
    Action taked by itseft: SELL: 36, HOLD: 28, BUY: 36
Step 700, exploration rate 0.0 ====>
    Percent Capital: 0.9925, interval: [0.9814, 1.0058]
    Action taked by itseft: SELL: 32, HOLD: 37, BUY: 31
Step 800, exploration rate 0.0 ====>
    Percent Capital: 0.9930, interval: [0.9814, 1.0058]
    Action taked by itseft: SELL: 40, HOLD: 20, BUY: 40
Step 900, exploration rate 0.0 ====>
    Percent Capital: 0.9951, interval: [0.9814, 1.0058]
    Action taked by itseft: SELL: 44, HOLD: 12, BUY: 44
Step 1000, exploration rate 0.0 ====>
    Percent Capital: 1.0569, interval: [0.9814, 1.0569]
    Action taked by itseft: SELL: 13, HOLD: 75, BUY: 12
Episode 17/20 ended

Step 100, exploration rate 0.0 ====>
    Percent Capital: 1.0000, interval: [1.0000, 1.0000]
    Action taked by itseft: SELL: 7, HOLD: 93, BUY: 0
Step 200, exploration rate 0.0 ====>
    Percent Capital: 1.0000, interval: [1.0000, 1.0000]
    Action taked by itseft: SELL: 30, HOLD: 70, BUY: 0
Step 300, exploration rate 0.0 ====>
    Percent Capital: 1.0000, interval: [1.0000, 1.0000]
    Action taked by itseft: SELL: 56, HOLD: 44, BUY: 0
Step 400, exploration rate 0.0 ====>
    Percent Capital: 1.0000, interval: [1.0000, 1.0000]
    Action taked by itseft: SELL: 44, HOLD: 56, BUY: 0
Step 500, exploration rate 0.0 ====>
    Percent Capital: 1.0000, interval: [1.0000, 1.0000]
    Action taked by itseft: SELL: 87, HOLD: 13, BUY: 0
Step 600, exploration rate 0.0 ====>
    Percent Capital: 1.0000, interval: [1.0000, 1.0000]
    Action taked by itseft: SELL: 88, HOLD: 12, BUY: 0
Step 700, exploration rate 0.0 ====>
    Percent Capital: 1.0000, interval: [1.0000, 1.0000]
    Action taked by itseft: SELL: 85, HOLD: 15, BUY: 0
Step 800, exploration rate 0.0 ====>
    Percent Capital: 1.0000, interval: [1.0000, 1.0000]
    Action taked by itseft: SELL: 96, HOLD: 4, BUY: 0
Step 900, exploration rate 0.0 ====>
    Percent Capital: 1.0000, interval: [1.0000, 1.0000]
    Action taked by itseft: SELL: 100, HOLD: 0, BUY: 0
Step 1000, exploration rate 0.0 ====>
    Percent Capital: 1.0248, interval: [1.0000, 1.0248]
    Action taked by itseft: SELL: 90, HOLD: 10, BUY: 0
Episode 18/20 ended

Step 100, exploration rate 0.0 ====>
    Percent Capital: 0.9844, interval: [0.9815, 1.0024]
    Action taked by itseft: SELL: 26, HOLD: 49, BUY: 25
Step 200, exploration rate 0.0 ====>
    Percent Capital: 1.0020, interval: [0.9815, 1.0024]
    Action taked by itseft: SELL: 22, HOLD: 56, BUY: 22
Step 300, exploration rate 0.0 ====>
    Percent Capital: 1.0066, interval: [0.9815, 1.0067]
    Action taked by itseft: SELL: 28, HOLD: 44, BUY: 28
Step 400, exploration rate 0.0 ====>
    Percent Capital: 1.0059, interval: [0.9815, 1.0136]
    Action taked by itseft: SELL: 36, HOLD: 27, BUY: 37
Step 500, exploration rate 0.0 ====>
    Percent Capital: 0.9943, interval: [0.9815, 1.0136]
    Action taked by itseft: SELL: 28, HOLD: 43, BUY: 29
Step 600, exploration rate 0.0 ====>
    Percent Capital: 0.9779, interval: [0.9779, 1.0136]
    Action taked by itseft: SELL: 27, HOLD: 47, BUY: 26
Step 700, exploration rate 0.0 ====>
    Percent Capital: 0.9701, interval: [0.9687, 1.0136]
    Action taked by itseft: SELL: 41, HOLD: 18, BUY: 41
Step 800, exploration rate 0.0 ====>
    Percent Capital: 0.9640, interval: [0.9633, 1.0136]
    Action taked by itseft: SELL: 28, HOLD: 44, BUY: 28
Step 900, exploration rate 0.0 ====>
    Percent Capital: 0.9658, interval: [0.9601, 1.0136]
    Action taked by itseft: SELL: 27, HOLD: 46, BUY: 27
Step 1000, exploration rate 0.0 ====>
    Percent Capital: 0.9694, interval: [0.9601, 1.0136]
    Action taked by itseft: SELL: 31, HOLD: 39, BUY: 30
Episode 19/20 ended

Step 100, exploration rate 0.0 ====>
    Percent Capital: 0.9993, interval: [0.9952, 1.0018]
    Action taked by itseft: SELL: 39, HOLD: 22, BUY: 39
Step 200, exploration rate 0.0 ====>
    Percent Capital: 0.9908, interval: [0.9884, 1.0018]
    Action taked by itseft: SELL: 37, HOLD: 27, BUY: 36
Step 300, exploration rate 0.0 ====>
    Percent Capital: 0.9899, interval: [0.9850, 1.0018]
    Action taked by itseft: SELL: 39, HOLD: 20, BUY: 41
Step 400, exploration rate 0.0 ====>
    Percent Capital: 0.9978, interval: [0.9850, 1.0018]
    Action taked by itseft: SELL: 40, HOLD: 21, BUY: 39
Step 500, exploration rate 0.0 ====>
    Percent Capital: 1.0039, interval: [0.9850, 1.0051]
    Action taked by itseft: SELL: 38, HOLD: 24, BUY: 38
Step 600, exploration rate 0.0 ====>
    Percent Capital: 1.0063, interval: [0.9850, 1.0079]
    Action taked by itseft: SELL: 35, HOLD: 30, BUY: 35
Step 700, exploration rate 0.0 ====>
    Percent Capital: 1.0042, interval: [0.9850, 1.0079]
    Action taked by itseft: SELL: 39, HOLD: 22, BUY: 39
Step 800, exploration rate 0.0 ====>
    Percent Capital: 0.9938, interval: [0.9850, 1.0079]
    Action taked by itseft: SELL: 34, HOLD: 31, BUY: 35
Step 900, exploration rate 0.0 ====>
    Percent Capital: 0.9851, interval: [0.9850, 1.0079]
    Action taked by itseft: SELL: 38, HOLD: 25, BUY: 37
Step 1000, exploration rate 0.0 ====>
    Percent Capital: 0.9794, interval: [0.9793, 1.0079]
    Action taked by itseft: SELL: 37, HOLD: 25, BUY: 38
Episode 20/20 ended

